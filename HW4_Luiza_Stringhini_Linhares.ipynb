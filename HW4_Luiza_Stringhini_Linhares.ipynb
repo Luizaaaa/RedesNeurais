{
  "cells": [
    {
      "cell_type": "markdown",
      "metadata": {
        "id": "view-in-github",
        "colab_type": "text"
      },
      "source": [
        "<a href=\"https://colab.research.google.com/github/Luizaaaa/RedesNeurais/blob/main/HW4_Luiza_Stringhini_Linhares.ipynb\" target=\"_parent\"><img src=\"https://colab.research.google.com/assets/colab-badge.svg\" alt=\"Open In Colab\"/></a>"
      ]
    },
    {
      "cell_type": "code",
      "execution_count": null,
      "metadata": {
        "id": "W_OBr2f8tsUp"
      },
      "outputs": [],
      "source": [
        "import numpy as np\n",
        "import datetime\n",
        "import tensorflow as tf\n",
        "import matplotlib.pyplot as plt\n",
        "from tensorflow.keras import datasets, layers, models\n",
        "from keras.datasets import cifar10"
      ]
    },
    {
      "cell_type": "code",
      "execution_count": null,
      "metadata": {
        "id": "lOr-CP52nqSx",
        "colab": {
          "base_uri": "https://localhost:8080/"
        },
        "outputId": "8f1d4543-4c10-4b01-8fe8-db4c88ae49cf"
      },
      "outputs": [
        {
          "output_type": "stream",
          "name": "stdout",
          "text": [
            "Downloading data from https://www.cs.toronto.edu/~kriz/cifar-10-python.tar.gz\n",
            "170500096/170498071 [==============================] - 4s 0us/step\n",
            "170508288/170498071 [==============================] - 4s 0us/step\n"
          ]
        }
      ],
      "source": [
        "(X_train,Y_train) , (X_test,Y_test) = cifar10.load_data()"
      ]
    },
    {
      "cell_type": "code",
      "execution_count": null,
      "metadata": {
        "id": "_iRSP3yd9Ypp",
        "colab": {
          "base_uri": "https://localhost:8080/"
        },
        "outputId": "85b777e7-7d3f-43f5-fc40-f2934aa94f6f"
      },
      "outputs": [
        {
          "output_type": "stream",
          "name": "stdout",
          "text": [
            "(50000, 32, 32, 3)\n",
            "(10000, 32, 32, 3)\n"
          ]
        }
      ],
      "source": [
        "X_train = X_train / 255.0\n",
        "X_test = X_test / 255.0\n",
        "\n",
        "print(X_train.shape)\n",
        "print(X_test.shape)"
      ]
    },
    {
      "cell_type": "code",
      "source": [
        "model = tf.keras.models.Sequential()\n",
        "\n",
        "# Input Layer\n",
        "\n",
        "\n",
        "model.add(tf.keras.layers.Conv2D(input_shape=(32,32,3), filters=32, kernel_size=(2,2), padding='same', strides=(2,2)))\n",
        "\n",
        "\n",
        "model.add(tf.keras.layers.Conv2D(filters=64, kernel_size=(3,3), padding='same', activation='relu'))\n",
        "model.add(tf.keras.layers.MaxPool2D(pool_size=(2,2), strides=(2,2), padding='valid'))\n",
        "\n",
        "model.add(tf.keras.layers.Conv2D(filters=128, kernel_size=(3,3), padding='same', activation='relu'))\n",
        "\n",
        "\n",
        "model.add(tf.keras.layers.Conv2D(filters=128, kernel_size=(3,3), padding='same', activation='relu'))\n",
        "model.add(tf.keras.layers.MaxPool2D(pool_size=(2,2), strides=(2,2), padding='valid'))\n",
        "\n",
        "model.add(tf.keras.layers.Conv2D(filters=256, kernel_size=(3,3), padding='same', activation='relu'))\n",
        "\n",
        "\n",
        "model.add(tf.keras.layers.Conv2D(filters=256, kernel_size=(3,3), padding='same', activation='relu'))\n",
        "model.add(tf.keras.layers.MaxPool2D(pool_size=(2,2), strides=(2,2), padding='valid'))\n",
        "\n",
        "model.add(tf.keras.layers.Conv2D(filters=512, kernel_size=(3,3), padding='same', activation='relu'))\n",
        "\n",
        "\n",
        "model.add(tf.keras.layers.Conv2D(filters=512, kernel_size=(3,3), padding='same', activation='relu'))\n",
        "model.add(tf.keras.layers.MaxPool2D(pool_size=(2,2), strides=(2,2), padding='valid'))\n",
        "\n",
        "# Passing it to a Fully Connected layer\n",
        "model.add(tf.keras.layers.Flatten())\n",
        "model.add(tf.keras.layers.Dense(units=1024,activation='relu'))\n",
        "model.add(tf.keras.layers.Dense(units=512,activation='relu'))\n",
        "model.add(tf.keras.layers.Dense(units=256,activation='relu'))\n",
        "model.add(tf.keras.layers.Dense(units=128,activation='relu'))\n",
        "model.add(tf.keras.layers.Dense(units=100,activation='softmax'))\n",
        "\n",
        "opt = tf.keras.optimizers.Adam()\n",
        "model.compile(optimizer=opt, loss='sparse_categorical_crossentropy', metrics=['accuracy'])\n",
        "\n",
        "model.summary()"
      ],
      "metadata": {
        "colab": {
          "base_uri": "https://localhost:8080/"
        },
        "id": "DSwMOaktt4wa",
        "outputId": "f6b90f40-3d24-4945-8f0e-b43f464852cf"
      },
      "execution_count": null,
      "outputs": [
        {
          "output_type": "stream",
          "name": "stdout",
          "text": [
            "Model: \"sequential_1\"\n",
            "_________________________________________________________________\n",
            " Layer (type)                Output Shape              Param #   \n",
            "=================================================================\n",
            " conv2d_8 (Conv2D)           (None, 16, 16, 32)        416       \n",
            "                                                                 \n",
            " conv2d_9 (Conv2D)           (None, 16, 16, 64)        18496     \n",
            "                                                                 \n",
            " max_pooling2d_4 (MaxPooling  (None, 8, 8, 64)         0         \n",
            " 2D)                                                             \n",
            "                                                                 \n",
            " conv2d_10 (Conv2D)          (None, 8, 8, 128)         73856     \n",
            "                                                                 \n",
            " conv2d_11 (Conv2D)          (None, 8, 8, 128)         147584    \n",
            "                                                                 \n",
            " max_pooling2d_5 (MaxPooling  (None, 4, 4, 128)        0         \n",
            " 2D)                                                             \n",
            "                                                                 \n",
            " conv2d_12 (Conv2D)          (None, 4, 4, 256)         295168    \n",
            "                                                                 \n",
            " conv2d_13 (Conv2D)          (None, 4, 4, 256)         590080    \n",
            "                                                                 \n",
            " max_pooling2d_6 (MaxPooling  (None, 2, 2, 256)        0         \n",
            " 2D)                                                             \n",
            "                                                                 \n",
            " conv2d_14 (Conv2D)          (None, 2, 2, 512)         1180160   \n",
            "                                                                 \n",
            " conv2d_15 (Conv2D)          (None, 2, 2, 512)         2359808   \n",
            "                                                                 \n",
            " max_pooling2d_7 (MaxPooling  (None, 1, 1, 512)        0         \n",
            " 2D)                                                             \n",
            "                                                                 \n",
            " flatten_1 (Flatten)         (None, 512)               0         \n",
            "                                                                 \n",
            " dense_5 (Dense)             (None, 1024)              525312    \n",
            "                                                                 \n",
            " dense_6 (Dense)             (None, 512)               524800    \n",
            "                                                                 \n",
            " dense_7 (Dense)             (None, 256)               131328    \n",
            "                                                                 \n",
            " dense_8 (Dense)             (None, 128)               32896     \n",
            "                                                                 \n",
            " dense_9 (Dense)             (None, 100)               12900     \n",
            "                                                                 \n",
            "=================================================================\n",
            "Total params: 5,892,804\n",
            "Trainable params: 5,892,804\n",
            "Non-trainable params: 0\n",
            "_________________________________________________________________\n"
          ]
        }
      ]
    },
    {
      "cell_type": "code",
      "execution_count": null,
      "metadata": {
        "colab": {
          "base_uri": "https://localhost:8080/"
        },
        "id": "OYl4dJr8ExKM",
        "outputId": "5e6f8c40-e8ed-4baa-d056-fa878ec5543d"
      },
      "outputs": [
        {
          "output_type": "stream",
          "name": "stdout",
          "text": [
            "Epoch 1/8\n",
            "450/450 [==============================] - 20s 16ms/step - loss: 2.2771 - accuracy: 0.1475 - val_loss: 1.7664 - val_accuracy: 0.2894\n",
            "Epoch 2/8\n",
            "450/450 [==============================] - 7s 16ms/step - loss: 1.6042 - accuracy: 0.3767 - val_loss: 1.4936 - val_accuracy: 0.4436\n",
            "Epoch 3/8\n",
            "450/450 [==============================] - 7s 15ms/step - loss: 1.2417 - accuracy: 0.5496 - val_loss: 1.1100 - val_accuracy: 0.5988\n",
            "Epoch 4/8\n",
            "450/450 [==============================] - 7s 15ms/step - loss: 1.0267 - accuracy: 0.6358 - val_loss: 1.0362 - val_accuracy: 0.6396\n",
            "Epoch 5/8\n",
            "450/450 [==============================] - 7s 15ms/step - loss: 0.8632 - accuracy: 0.6988 - val_loss: 0.8810 - val_accuracy: 0.6998\n",
            "Epoch 6/8\n",
            "450/450 [==============================] - 7s 15ms/step - loss: 0.7452 - accuracy: 0.7419 - val_loss: 0.8664 - val_accuracy: 0.7072\n",
            "Epoch 7/8\n",
            "450/450 [==============================] - 7s 15ms/step - loss: 0.6382 - accuracy: 0.7794 - val_loss: 0.8719 - val_accuracy: 0.7228\n",
            "Epoch 8/8\n",
            "450/450 [==============================] - 7s 15ms/step - loss: 0.5458 - accuracy: 0.8112 - val_loss: 0.8760 - val_accuracy: 0.7238\n"
          ]
        }
      ],
      "source": [
        "history = model.fit(X_train, Y_train, batch_size=100, validation_split=0.1, epochs=8)\n"
      ]
    },
    {
      "cell_type": "code",
      "execution_count": null,
      "metadata": {
        "id": "oA_xa7lMFCkZ",
        "colab": {
          "base_uri": "https://localhost:8080/"
        },
        "outputId": "fc6d11db-67a3-4384-86f4-f37746a1f775"
      },
      "outputs": [
        {
          "output_type": "stream",
          "name": "stdout",
          "text": [
            "500/500 [==============================] - 3s 7ms/step - loss: 0.4753 - accuracy: 0.8413\n",
            "100/100 [==============================] - 1s 6ms/step - loss: 0.9095 - accuracy: 0.7145\n"
          ]
        }
      ],
      "source": [
        "test_loss, test_accuracy = model.evaluate(X_train, Y_train, batch_size=100)\n",
        "test_loss, test_accuracy = model.evaluate(X_test, Y_test, batch_size=100)"
      ]
    },
    {
      "cell_type": "code",
      "execution_count": null,
      "metadata": {
        "id": "B3CZi5_cFJMp",
        "colab": {
          "base_uri": "https://localhost:8080/",
          "height": 295
        },
        "outputId": "23c32598-f4e0-47f2-af22-ffd59b4e59ac"
      },
      "outputs": [
        {
          "output_type": "display_data",
          "data": {
            "text/plain": [
              "<Figure size 432x288 with 1 Axes>"
            ],
            "image/png": "[encoded data removed]"
          },
          "metadata": {
            "needs_background": "light"
          }
        }
      ],
      "source": [
        "plt.plot(history.history['accuracy'])\n",
        "plt.plot(history.history['val_accuracy'])\n",
        "plt.title('model accuracy')\n",
        "plt.ylabel('accuracy')\n",
        "plt.xlabel('epoch')\n",
        "plt.legend(['train', 'test'], loc='upper left')\n",
        "plt.show()"
      ]
    }
  ],
  "metadata": {
    "colab": {
      "name": "HW4 - Luiza Stringhini Linhares.ipynb",
      "provenance": [],
      "authorship_tag": "ABX9TyPjtfusaEVnhDaR29Gqrakj",
      "include_colab_link": true
    },
    "kernelspec": {
      "display_name": "Python 3",
      "name": "python3"
    },
    "language_info": {
      "name": "python"
    },
    "accelerator": "GPU"
  },
  "nbformat": 4,
  "nbformat_minor": 0
}