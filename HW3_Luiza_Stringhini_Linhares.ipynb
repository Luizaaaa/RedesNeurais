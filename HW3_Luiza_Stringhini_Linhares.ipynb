{
  "cells": [
    {
      "cell_type": "markdown",
      "metadata": {
        "id": "view-in-github",
        "colab_type": "text"
      },
      "source": [
        "<a href=\"https://colab.research.google.com/github/Luizaaaa/RedesNeurais/blob/main/HW3_Luiza_Stringhini_Linhares.ipynb\" target=\"_parent\"><img src=\"https://colab.research.google.com/assets/colab-badge.svg\" alt=\"Open In Colab\"/></a>"
      ]
    },
    {
      "cell_type": "code",
      "execution_count": null,
      "metadata": {
        "id": "W_OBr2f8tsUp"
      },
      "outputs": [],
      "source": [
        "import numpy as np\n",
        "import datetime\n",
        "import tensorflow as tf\n",
        "import matplotlib.pyplot as plt\n",
        "from keras.datasets import cifar10"
      ]
    },
    {
      "cell_type": "code",
      "execution_count": null,
      "metadata": {
        "id": "lOr-CP52nqSx"
      },
      "outputs": [],
      "source": [
        "(X_train,Y_train) , (X_test,Y_test) = cifar10.load_data()"
      ]
    },
    {
      "cell_type": "code",
      "execution_count": null,
      "metadata": {
        "id": "_iRSP3yd9Ypp",
        "colab": {
          "base_uri": "https://localhost:8080/"
        },
        "outputId": "d52a8e17-c918-41e7-b26c-20c82f318114"
      },
      "outputs": [
        {
          "output_type": "stream",
          "name": "stdout",
          "text": [
            "(50000, 32, 32, 3)\n",
            "(10000, 32, 32, 3)\n"
          ]
        }
      ],
      "source": [
        "X_train = X_train / 255.0\n",
        "X_test = X_test / 255.0\n",
        "\n",
        "print(X_train.shape)\n",
        "print(X_test.shape)"
      ]
    },
    {
      "cell_type": "code",
      "execution_count": null,
      "metadata": {
        "id": "7Wvshn1DEb9c",
        "colab": {
          "base_uri": "https://localhost:8080/"
        },
        "outputId": "15587d5c-ea00-440a-afe2-d2ea5aed8977"
      },
      "outputs": [
        {
          "output_type": "stream",
          "name": "stdout",
          "text": [
            "Model: \"sequential_2\"\n",
            "_________________________________________________________________\n",
            " Layer (type)                Output Shape              Param #   \n",
            "=================================================================\n",
            " conv2d_16 (Conv2D)          (None, 16, 16, 32)        416       \n",
            "                                                                 \n",
            " conv2d_17 (Conv2D)          (None, 16, 16, 64)        18496     \n",
            "                                                                 \n",
            " conv2d_18 (Conv2D)          (None, 16, 16, 128)       73856     \n",
            "                                                                 \n",
            " conv2d_19 (Conv2D)          (None, 16, 16, 128)       147584    \n",
            "                                                                 \n",
            " conv2d_20 (Conv2D)          (None, 16, 16, 256)       295168    \n",
            "                                                                 \n",
            " conv2d_21 (Conv2D)          (None, 16, 16, 256)       590080    \n",
            "                                                                 \n",
            " conv2d_22 (Conv2D)          (None, 16, 16, 512)       1180160   \n",
            "                                                                 \n",
            " conv2d_23 (Conv2D)          (None, 16, 16, 512)       2359808   \n",
            "                                                                 \n",
            " flatten_2 (Flatten)         (None, 131072)            0         \n",
            "                                                                 \n",
            " dense_10 (Dense)            (None, 1024)              134218752 \n",
            "                                                                 \n",
            " dense_11 (Dense)            (None, 512)               524800    \n",
            "                                                                 \n",
            " dense_12 (Dense)            (None, 256)               131328    \n",
            "                                                                 \n",
            " dense_13 (Dense)            (None, 128)               32896     \n",
            "                                                                 \n",
            " dense_14 (Dense)            (None, 100)               12900     \n",
            "                                                                 \n",
            "=================================================================\n",
            "Total params: 139,586,244\n",
            "Trainable params: 139,586,244\n",
            "Non-trainable params: 0\n",
            "_________________________________________________________________\n"
          ]
        }
      ],
      "source": [
        "model = tf.keras.models.Sequential()\n",
        "\n",
        "# Input Layer\n",
        "\n",
        "\n",
        "model.add(tf.keras.layers.Conv2D(input_shape=(32,32,3), filters=32, kernel_size=(2,2), padding='same', strides=(2,2)))\n",
        "model.add(tf.keras.layers.Conv2D(filters=64, kernel_size=(3,3), padding='same', activation='relu'))\n",
        "model.add(tf.keras.layers.Conv2D(filters=128, kernel_size=(3,3), padding='same', activation='relu'))\n",
        "model.add(tf.keras.layers.Conv2D(filters=128, kernel_size=(3,3), padding='same', activation='relu'))\n",
        "model.add(tf.keras.layers.Conv2D(filters=256, kernel_size=(3,3), padding='same', activation='relu'))\n",
        "model.add(tf.keras.layers.Conv2D(filters=256, kernel_size=(3,3), padding='same', activation='relu'))\n",
        "model.add(tf.keras.layers.Conv2D(filters=512, kernel_size=(3,3), padding='same', activation='relu'))\n",
        "model.add(tf.keras.layers.Conv2D(filters=512, kernel_size=(3,3), padding='same', activation='relu'))\n",
        "\n",
        "# Passing it to a Fully Connected layer\n",
        "model.add(tf.keras.layers.Flatten())\n",
        "model.add(tf.keras.layers.Dense(units=1024,activation='relu'))\n",
        "model.add(tf.keras.layers.Dense(units=512,activation='relu'))\n",
        "model.add(tf.keras.layers.Dense(units=256,activation='relu'))\n",
        "model.add(tf.keras.layers.Dense(units=128,activation='relu'))\n",
        "model.add(tf.keras.layers.Dense(units=100,activation='softmax'))\n",
        "\n",
        "\n",
        "\n",
        "opt = tf.keras.optimizers.Adam()\n",
        "model.compile(optimizer=opt, loss='sparse_categorical_crossentropy', metrics=['accuracy'])\n",
        "\n",
        "model.summary()"
      ]
    },
    {
      "cell_type": "code",
      "execution_count": null,
      "metadata": {
        "colab": {
          "base_uri": "https://localhost:8080/"
        },
        "id": "OYl4dJr8ExKM",
        "outputId": "60db883b-ebc2-45ac-ac05-0647be8f06fb"
      },
      "outputs": [
        {
          "output_type": "stream",
          "name": "stdout",
          "text": [
            "Epoch 1/8\n",
            "450/450 [==============================] - 55s 120ms/step - loss: 2.3893 - accuracy: 0.1002 - val_loss: 2.3143 - val_accuracy: 0.0950\n",
            "Epoch 2/8\n",
            "450/450 [==============================] - 54s 120ms/step - loss: 2.3115 - accuracy: 0.0977 - val_loss: 2.3141 - val_accuracy: 0.0950\n",
            "Epoch 3/8\n",
            "450/450 [==============================] - 54s 120ms/step - loss: 2.3095 - accuracy: 0.0990 - val_loss: 2.3047 - val_accuracy: 0.0986\n",
            "Epoch 4/8\n",
            "450/450 [==============================] - 54s 119ms/step - loss: 2.2763 - accuracy: 0.1222 - val_loss: 2.0541 - val_accuracy: 0.2398\n",
            "Epoch 5/8\n",
            "450/450 [==============================] - 54s 119ms/step - loss: 1.7199 - accuracy: 0.3577 - val_loss: 1.4741 - val_accuracy: 0.4416\n",
            "Epoch 6/8\n",
            "450/450 [==============================] - 54s 120ms/step - loss: 1.3815 - accuracy: 0.4913 - val_loss: 1.2707 - val_accuracy: 0.5306\n",
            "Epoch 7/8\n",
            "450/450 [==============================] - 54s 120ms/step - loss: 1.1842 - accuracy: 0.5716 - val_loss: 1.1429 - val_accuracy: 0.5912\n",
            "Epoch 8/8\n",
            "450/450 [==============================] - 54s 119ms/step - loss: 1.0261 - accuracy: 0.6332 - val_loss: 1.0564 - val_accuracy: 0.6234\n"
          ]
        }
      ],
      "source": [
        "history = model.fit(X_train, Y_train, batch_size=100, validation_split=0.1, epochs=8)"
      ]
    },
    {
      "cell_type": "code",
      "execution_count": null,
      "metadata": {
        "id": "oA_xa7lMFCkZ",
        "colab": {
          "base_uri": "https://localhost:8080/"
        },
        "outputId": "e37311a2-804e-4fb5-d671-a5a09dcfbfc4"
      },
      "outputs": [
        {
          "output_type": "stream",
          "name": "stdout",
          "text": [
            "500/500 [==============================] - 18s 35ms/step - loss: 0.9025 - accuracy: 0.6818\n",
            "100/100 [==============================] - 4s 35ms/step - loss: 1.0677 - accuracy: 0.6181\n"
          ]
        }
      ],
      "source": [
        "test_loss, test_accuracy = model.evaluate(X_train, Y_train, batch_size=100)\n",
        "test_loss, test_accuracy = model.evaluate(X_test, Y_test, batch_size=100)"
      ]
    },
    {
      "cell_type": "code",
      "execution_count": null,
      "metadata": {
        "id": "B3CZi5_cFJMp",
        "colab": {
          "base_uri": "https://localhost:8080/",
          "height": 295
        },
        "outputId": "3a097c92-897e-4e36-ab82-549d12a880db"
      },
      "outputs": [
        {
          "output_type": "display_data",
          "data": {
            "text/plain": [
              "<Figure size 432x288 with 1 Axes>"
            ],
            "image/png": "[encoded data removed]"
          },
          "metadata": {
            "needs_background": "light"
          }
        }
      ],
      "source": [
        "plt.plot(history.history['accuracy'])\n",
        "plt.plot(history.history['val_accuracy'])\n",
        "plt.title('model accuracy')\n",
        "plt.ylabel('accuracy')\n",
        "plt.xlabel('epoch')\n",
        "plt.legend(['train', 'test'], loc='upper left')\n",
        "plt.show()"
      ]
    }
  ],
  "metadata": {
    "colab": {
      "name": "HW3 - Luiza Stringhini Linhares.ipynb",
      "provenance": [],
      "authorship_tag": "ABX9TyPtG6ZpRqY/hiQLKRuc6f8w",
      "include_colab_link": true
    },
    "kernelspec": {
      "display_name": "Python 3",
      "name": "python3"
    },
    "language_info": {
      "name": "python"
    },
    "accelerator": "GPU"
  },
  "nbformat": 4,
  "nbformat_minor": 0
}